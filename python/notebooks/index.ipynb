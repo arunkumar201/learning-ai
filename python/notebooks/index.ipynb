{
 "cells": [
  {
   "cell_type": "code",
   "execution_count": 30,
   "metadata": {},
   "outputs": [
    {
     "name": "stdout",
     "output_type": "stream",
     "text": [
      "My deep copy is:  [1, 2, 3]\n",
      "[1, 2, 3]\n",
      "[1, 2, 3, 1]\n",
      "[1, 2, 3, 1]\n",
      "Ids of before_mutation and after_mutation are same:  True\n"
     ]
    }
   ],
   "source": [
    "def multation(ls):\n",
    "\tls.append(1)\n",
    "\treturn ls\n",
    "\n",
    "ls = [1,2,3]\n",
    "# deep copy\n",
    "deep_copy = ls.copy() # or ls[:] or list(ls) \n",
    "print(\"My deep copy is: \", deep_copy)\n",
    "\n",
    "print(ls)\n",
    "before_mutation = ls\n",
    "after_mutation = multation(ls)\n",
    "\n",
    "print(before_mutation)\n",
    "print(after_mutation)\n",
    "print(\"Ids of before_mutation and after_mutation are same: \", id(before_mutation) == id(after_mutation))\n"
   ]
  },
  {
   "cell_type": "code",
   "execution_count": null,
   "metadata": {},
   "outputs": [],
   "source": []
  },
  {
   "cell_type": "code",
   "execution_count": 31,
   "metadata": {},
   "outputs": [
    {
     "name": "stdout",
     "output_type": "stream",
     "text": [
      "Hello Arun and you are 23 years old\n",
      "Hello Arun and you are 13 years old\n",
      "[2, 4, 6, 8, 10]\n"
     ]
    }
   ],
   "source": [
    "# F string \n",
    "name = \"Arun\"\n",
    "age=23\n",
    "print(f\"Hello {name} and you are {age} years old\")\n",
    "# we can also do the  \n",
    "print(f\"Hello {name} and you are {age-10} years old\")\n",
    "\n",
    "# List Comprehension\n",
    "ls = [1,2,3,4,5]\n",
    "print([i*2 for i in ls])\n"
   ]
  },
  {
   "cell_type": "code",
   "execution_count": 48,
   "metadata": {},
   "outputs": [
    {
     "name": "stdout",
     "output_type": "stream",
     "text": [
      "this cell is being run directly\n",
      "__main__\n",
      "I found 4\n",
      "I found 4\n"
     ]
    }
   ],
   "source": [
    "# __name__==__main__ :- it is used to check if the file is being run directly or imported\n",
    "# if the file is being run directly then __name__ will be __main__ or else it will be the name of the file\n",
    "\n",
    "if __name__ == \"__main__\":\n",
    "\tprint(\"this cell is being run directly\")\n",
    "print(__name__)\n",
    "\n",
    "\n",
    "list = [1,2,3,4,5]\n",
    "\n",
    "for i in list:\n",
    "\tif i==4:\n",
    "\t\tprint(\"I found 4\")\n",
    "\t\tbreak\n",
    "else:\n",
    "\tprint(\"I did not find 4\")\n",
    "\n",
    "# alternate way to do the same thing\n",
    "is_found = False\n",
    "for i in list:\n",
    "\tif i==4:\n",
    "\t\tis_found = True\n",
    "\t\tbreak\n",
    "\n",
    "if is_found:\n",
    "\tprint(\"I found 4\")\n",
    "else:\n",
    "\tprint(\"I did not find 4\")\n"
   ]
  },
  {
   "cell_type": "code",
   "execution_count": 95,
   "metadata": {},
   "outputs": [
    {
     "name": "stdout",
     "output_type": "stream",
     "text": [
      "(1, 2, 3)\n",
      "{'a': 1, 'b': 2, 'c': 3, '443': 'd'}\n",
      "1 2 3 4\n",
      "1 2 3\n"
     ]
    }
   ],
   "source": [
    "'''\n",
    "positional arguments are the arguments that are passed to a function in the order they are defined\n",
    "keyword arguments are the arguments that are passed to a function with a key value pair\n",
    "eg.\n",
    "def func(a,b):\n",
    "\treturn a+b\n",
    "\n",
    "func(1,2) # positional arguments\n",
    "func(a=1,b=2) # keyword arguments\n",
    "func(b=2,a=1) # keyword arguments\n",
    "'''\n",
    "# *args and **kwargs are used to pass multiple arguments or infinete arguments to a function\n",
    "# *args is used to pass multiple positional arguments\n",
    "# **kwargs is used to pass multiple keyword arguments\n",
    "\n",
    "def func(*args, **kwargs):\n",
    "\tprint(args)\n",
    "\tprint(kwargs)\n",
    "\n",
    "special_key='443'\n",
    "func(1, 2, 3, a=1, b=2, c=3, **{special_key: 'd'})\n",
    "\n",
    "\n",
    "a,b,c,d=1,2,3,4\n",
    "print(a,b,c,d)\n",
    "\n",
    "a, b, c = (1,2,3)\n",
    "print(a, b, c)"
   ]
  },
  {
   "cell_type": "markdown",
   "metadata": {},
   "source": [
    " ##### ** operator unpacks the dictionary into keyword arguments, allowing you to dynamically set keys in the function call."
   ]
  },
  {
   "cell_type": "code",
   "execution_count": 71,
   "metadata": {},
   "outputs": [
    {
     "name": "stdout",
     "output_type": "stream",
     "text": [
      "[0, 1, 4, 9, 16, 25, 36, 49, 64, 81, 100, 121, 144, 169, 196, 225, 256, 289, 324, 361]\n",
      "[0, 2, 4, 6, 8, 10, 12, 14, 16, 18, 20, 22, 24, 26, 28]\n",
      "My flattened list is:  [1, 2, 3, 4, 5, 6, 7, 8, 9]\n",
      "1 4 7\n",
      "2 5 8\n",
      "3 6 9\n",
      "The index is 0 and the value is 0\n",
      "The index is 1 and the value is 1\n",
      "The index is 2 and the value is 4\n",
      "The index is 3 and the value is 9\n",
      "The index is 4 and the value is 16\n",
      "The index is 5 and the value is 25\n",
      "The index is 6 and the value is 36\n",
      "The index is 7 and the value is 49\n",
      "The index is 8 and the value is 64\n",
      "The index is 9 and the value is 81\n",
      "The index is 10 and the value is 100\n",
      "The index is 11 and the value is 121\n",
      "The index is 12 and the value is 144\n",
      "The index is 13 and the value is 169\n",
      "The index is 14 and the value is 196\n",
      "The index is 15 and the value is 225\n",
      "The index is 16 and the value is 256\n",
      "The index is 17 and the value is 289\n",
      "The index is 18 and the value is 324\n",
      "The index is 19 and the value is 361\n"
     ]
    }
   ],
   "source": [
    "'''\n",
    "list comprehension is used to create a new list by iterating over an existing list\n",
    "it is much faster than for loop as it used the underlying C implementation.\n",
    "'''\n",
    "\n",
    "squared_list=[i**2 for i in range(20)]\n",
    "print(squared_list)\n",
    "\n",
    "even_list=[i for i in range(30) if i%2==0]\n",
    "print(even_list)\n",
    "\n",
    "\n",
    "nested_list = [[1,2,3],[4,5,6],[7,8,9]]\n",
    "flattened_list =[i for j in nested_list for i in j]\n",
    "print(\"My flattened list is: \",flattened_list)\n",
    "\n",
    "# zip is used to combine two lists\n",
    "list1 = [1,2,3]\n",
    "list2 = [4,5,6]\n",
    "list3 = [7,8,9]\n",
    "for i,j,k in zip(list1,list2,list3):\n",
    "\tprint(i,j,k)\n",
    "\n",
    "\n",
    "# enumerate is used to get the index and value of the list\n",
    "for index, value in enumerate(squared_list):\n",
    "\tprint(f\"The index is {index} and the value is {value}\")\n"
   ]
  },
  {
   "cell_type": "code",
   "execution_count": 72,
   "metadata": {},
   "outputs": [],
   "source": [
    "# file handling with context manager\n",
    "with open('my_file.txt', 'w') as file:\n",
    "    file.write('Hello, this is a test.')\n",
    "# as context manager is used to automatically close the file \n"
   ]
  },
  {
   "cell_type": "code",
   "execution_count": null,
   "metadata": {},
   "outputs": [],
   "source": []
  }
 ],
 "metadata": {
  "kernelspec": {
   "display_name": "Python 3",
   "language": "python",
   "name": "python3"
  },
  "language_info": {
   "codemirror_mode": {
    "name": "ipython",
    "version": 3
   },
   "file_extension": ".py",
   "mimetype": "text/x-python",
   "name": "python",
   "nbconvert_exporter": "python",
   "pygments_lexer": "ipython3",
   "version": "3.9.2"
  }
 },
 "nbformat": 4,
 "nbformat_minor": 2
}
